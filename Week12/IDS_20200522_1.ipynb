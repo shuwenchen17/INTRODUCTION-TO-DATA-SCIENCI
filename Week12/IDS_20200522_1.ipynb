{
  "nbformat": 4,
  "nbformat_minor": 0,
  "metadata": {
    "colab": {
      "name": "IDS_20200522_1",
      "provenance": []
    },
    "kernelspec": {
      "name": "python3",
      "display_name": "Python 3"
    }
  },
  "cells": [
    {
      "cell_type": "code",
      "metadata": {
        "id": "5DUgGxV_Fz87",
        "colab_type": "code",
        "colab": {
          "base_uri": "https://localhost:8080/",
          "height": 1000
        },
        "outputId": "e9df4500-9aa4-408c-8bb3-507d0e8c16ca"
      },
      "source": [
        "for i in range(1, 101, 1):\n",
        "    print(i)"
      ],
      "execution_count": 1,
      "outputs": [
        {
          "output_type": "stream",
          "text": [
            "1\n",
            "2\n",
            "3\n",
            "4\n",
            "5\n",
            "6\n",
            "7\n",
            "8\n",
            "9\n",
            "10\n",
            "11\n",
            "12\n",
            "13\n",
            "14\n",
            "15\n",
            "16\n",
            "17\n",
            "18\n",
            "19\n",
            "20\n",
            "21\n",
            "22\n",
            "23\n",
            "24\n",
            "25\n",
            "26\n",
            "27\n",
            "28\n",
            "29\n",
            "30\n",
            "31\n",
            "32\n",
            "33\n",
            "34\n",
            "35\n",
            "36\n",
            "37\n",
            "38\n",
            "39\n",
            "40\n",
            "41\n",
            "42\n",
            "43\n",
            "44\n",
            "45\n",
            "46\n",
            "47\n",
            "48\n",
            "49\n",
            "50\n",
            "51\n",
            "52\n",
            "53\n",
            "54\n",
            "55\n",
            "56\n",
            "57\n",
            "58\n",
            "59\n",
            "60\n",
            "61\n",
            "62\n",
            "63\n",
            "64\n",
            "65\n",
            "66\n",
            "67\n",
            "68\n",
            "69\n",
            "70\n",
            "71\n",
            "72\n",
            "73\n",
            "74\n",
            "75\n",
            "76\n",
            "77\n",
            "78\n",
            "79\n",
            "80\n",
            "81\n",
            "82\n",
            "83\n",
            "84\n",
            "85\n",
            "86\n",
            "87\n",
            "88\n",
            "89\n",
            "90\n",
            "91\n",
            "92\n",
            "93\n",
            "94\n",
            "95\n",
            "96\n",
            "97\n",
            "98\n",
            "99\n",
            "100\n"
          ],
          "name": "stdout"
        }
      ]
    },
    {
      "cell_type": "code",
      "metadata": {
        "id": "gkg954qwF8-E",
        "colab_type": "code",
        "colab": {
          "base_uri": "https://localhost:8080/",
          "height": 561
        },
        "outputId": "8f6b92e1-393f-4ae5-8946-384dfbab45f3"
      },
      "source": [
        "x = int(input(\"請輸入起始的正整數:\"))\n",
        "y = int(input(\"請輸入終止的正整數:\"))\n",
        "odds = []\n",
        "for i in range(x, y+1):\n",
        "    print(i)"
      ],
      "execution_count": 2,
      "outputs": [
        {
          "output_type": "stream",
          "text": [
            "請輸入起始的正整數:1\n",
            "請輸入終止的正整數:30\n",
            "1\n",
            "2\n",
            "3\n",
            "4\n",
            "5\n",
            "6\n",
            "7\n",
            "8\n",
            "9\n",
            "10\n",
            "11\n",
            "12\n",
            "13\n",
            "14\n",
            "15\n",
            "16\n",
            "17\n",
            "18\n",
            "19\n",
            "20\n",
            "21\n",
            "22\n",
            "23\n",
            "24\n",
            "25\n",
            "26\n",
            "27\n",
            "28\n",
            "29\n",
            "30\n"
          ],
          "name": "stdout"
        }
      ]
    },
    {
      "cell_type": "code",
      "metadata": {
        "id": "qKGkug1gGTQz",
        "colab_type": "code",
        "colab": {
          "base_uri": "https://localhost:8080/",
          "height": 68
        },
        "outputId": "f0a86e56-5da2-471c-f132-73a356437de0"
      },
      "source": [
        "x = int(input(\"請輸入起始的正整數:\"))\n",
        "y = int(input(\"請輸入終止的正整數:\"))\n",
        "odds = []\n",
        "for i in range(x, y+1):\n",
        "    mod = i % 2\n",
        "    if mod == 1:\n",
        "        odds.append(i)\n",
        "print(odds)"
      ],
      "execution_count": 5,
      "outputs": [
        {
          "output_type": "stream",
          "text": [
            "請輸入起始的正整數:10\n",
            "請輸入終止的正整數:60\n",
            "[11, 13, 15, 17, 19, 21, 23, 25, 27, 29, 31, 33, 35, 37, 39, 41, 43, 45, 47, 49, 51, 53, 55, 57, 59]\n"
          ],
          "name": "stdout"
        }
      ]
    },
    {
      "cell_type": "code",
      "metadata": {
        "id": "xvs7lt06GTYy",
        "colab_type": "code",
        "colab": {
          "base_uri": "https://localhost:8080/",
          "height": 51
        },
        "outputId": "72a4533c-106e-41a8-c37a-aced393f6f80"
      },
      "source": [
        "print(len(odds)) # 記數\n",
        "print(sum(odds)) # 加總"
      ],
      "execution_count": 6,
      "outputs": [
        {
          "output_type": "stream",
          "text": [
            "25\n",
            "875\n"
          ],
          "name": "stdout"
        }
      ]
    },
    {
      "cell_type": "code",
      "metadata": {
        "id": "QquKa1DJGTfS",
        "colab_type": "code",
        "colab": {
          "base_uri": "https://localhost:8080/",
          "height": 51
        },
        "outputId": "43c0a755-168c-4a18-9013-5247535f0bfa"
      },
      "source": [
        "empty_list = []\n",
        "print(empty_list)\n",
        "print(len(empty_list))"
      ],
      "execution_count": 7,
      "outputs": [
        {
          "output_type": "stream",
          "text": [
            "[]\n",
            "0\n"
          ],
          "name": "stdout"
        }
      ]
    },
    {
      "cell_type": "code",
      "metadata": {
        "id": "5clJPRMjGTiK",
        "colab_type": "code",
        "colab": {
          "base_uri": "https://localhost:8080/",
          "height": 51
        },
        "outputId": "7ff7fc80-8589-4e2b-fa22-3320a03439a6"
      },
      "source": [
        "x = int(input(\"請輸入一個正整數:\"))\n",
        "divisors = []\n",
        "for i in range(1, x+1):\n",
        "    if x % i == 0:\n",
        "        divisors.append(i)\n",
        "print(divisors)"
      ],
      "execution_count": 8,
      "outputs": [
        {
          "output_type": "stream",
          "text": [
            "請輸入一個正整數:45\n",
            "[1, 3, 5, 9, 15, 45]\n"
          ],
          "name": "stdout"
        }
      ]
    },
    {
      "cell_type": "code",
      "metadata": {
        "id": "FEkzda0KN8gz",
        "colab_type": "code",
        "colab": {
          "base_uri": "https://localhost:8080/",
          "height": 68
        },
        "outputId": "48af4fd1-f1b2-407c-fa25-cc9c9cfc9daa"
      },
      "source": [
        "x = int(input(\"請輸入一個正整數:\"))\n",
        "divisors = []\n",
        "for i in range(1, x+1):\n",
        "    if x % i == 0:\n",
        "        divisors.append(i)\n",
        "print(divisors)\n",
        "n_divisors = len(divisors)\n",
        "if n_divisors == 2:\n",
        "    print(\"{}是質數\".format(x))\n",
        "else:\n",
        "    print(\"{}不是質數\".format(x))"
      ],
      "execution_count": 10,
      "outputs": [
        {
          "output_type": "stream",
          "text": [
            "請輸入一個正整數:43\n",
            "[1, 43]\n",
            "43是質數\n"
          ],
          "name": "stdout"
        }
      ]
    },
    {
      "cell_type": "code",
      "metadata": {
        "id": "JdcuLivKN8ed",
        "colab_type": "code",
        "colab": {
          "base_uri": "https://localhost:8080/",
          "height": 241
        },
        "outputId": "c69668a3-5dee-452c-9aca-98235a8bd745"
      },
      "source": [
        "# random 產生 1 個隨機數\n",
        "import random\n",
        "\n",
        "print(random.randint(1, 1000))\n",
        "print(\"\")\n",
        "\n",
        "# random 產生 100 個隨機數\n",
        "random_integers = []\n",
        "for i in range(100):\n",
        "    rand_int = random.randint(1, 1000)\n",
        "    random_integers.append(rand_int)\n",
        "print(random_integers)\n",
        "print(len(random_integers))\n",
        "print(\"\")\n",
        "\n",
        "# 找出第一大與第一小的數字\n",
        "print(max(random_integers))\n",
        "print(min(random_integers))\n",
        "print(\"\")\n",
        "\n",
        "# 找出第二大與第二小的數字\n",
        "print(len(set(random_integers))) # 先檢查有無重複\n",
        "ran_int_unique = set(random_integers) # \"set\"不可取值\n",
        "ran_int_unique_list = list(ran_int_unique) \n",
        "print(ran_int_unique_list)\n",
        "ran_int_unique_list.sort()\n",
        "print(ran_int_unique_list[1]) # 第二小\n",
        "print(ran_int_unique_list[-2]) # 第二大"
      ],
      "execution_count": 11,
      "outputs": [
        {
          "output_type": "stream",
          "text": [
            "915\n",
            "\n",
            "[857, 617, 374, 329, 198, 478, 472, 895, 552, 520, 757, 956, 269, 837, 716, 696, 846, 960, 261, 698, 955, 265, 252, 230, 237, 106, 141, 549, 379, 28, 843, 341, 611, 689, 493, 897, 561, 465, 240, 224, 370, 433, 892, 262, 661, 455, 201, 979, 940, 935, 90, 842, 63, 906, 181, 45, 554, 507, 132, 764, 721, 795, 95, 114, 306, 623, 836, 572, 671, 706, 530, 690, 270, 312, 953, 647, 147, 202, 133, 720, 434, 322, 144, 596, 579, 473, 600, 55, 59, 595, 561, 960, 647, 2, 213, 631, 101, 144, 785, 821]\n",
            "100\n",
            "\n",
            "979\n",
            "2\n",
            "\n",
            "96\n",
            "[2, 520, 530, 28, 549, 552, 554, 45, 561, 55, 59, 572, 63, 579, 595, 596, 600, 90, 95, 611, 101, 617, 106, 623, 114, 631, 132, 133, 647, 141, 144, 147, 661, 671, 689, 690, 181, 696, 698, 706, 198, 201, 202, 716, 720, 721, 213, 224, 230, 237, 240, 757, 764, 252, 261, 262, 265, 269, 270, 785, 795, 306, 821, 312, 322, 836, 837, 329, 842, 843, 846, 341, 857, 370, 374, 379, 892, 895, 897, 906, 935, 940, 433, 434, 953, 955, 956, 960, 455, 465, 979, 472, 473, 478, 493, 507]\n",
            "28\n",
            "960\n"
          ],
          "name": "stdout"
        }
      ]
    },
    {
      "cell_type": "code",
      "metadata": {
        "id": "jb0toCySatgO",
        "colab_type": "code",
        "colab": {
          "base_uri": "https://localhost:8080/",
          "height": 102
        },
        "outputId": "d1f977ec-b974-4a8e-c9de-2a4fdf1ee441"
      },
      "source": [
        "print(list(range(10)))\n",
        "print(\"\")\n",
        "# 方法一\n",
        "squared = []\n",
        "for i in range(10):\n",
        "  squared.append(i**2)\n",
        "print(squared)  \n",
        "print(\"\")\n",
        "# 方法二\n",
        "squared = [i**2 for i in range(10)]\n",
        "print(squared) "
      ],
      "execution_count": 12,
      "outputs": [
        {
          "output_type": "stream",
          "text": [
            "[0, 1, 2, 3, 4, 5, 6, 7, 8, 9]\n",
            "\n",
            "[0, 1, 4, 9, 16, 25, 36, 49, 64, 81]\n",
            "\n",
            "[0, 1, 4, 9, 16, 25, 36, 49, 64, 81]\n"
          ],
          "name": "stdout"
        }
      ]
    },
    {
      "cell_type": "code",
      "metadata": {
        "id": "dC_TbRCCatiz",
        "colab_type": "code",
        "colab": {
          "base_uri": "https://localhost:8080/",
          "height": 68
        },
        "outputId": "dc42a9d2-9c9d-44de-be0e-7541e43bb60f"
      },
      "source": [
        "# 方法一\n",
        "odds_squared = []\n",
        "for i in range(10):\n",
        "  if i % 2 == 1:\n",
        "      odds_squared.append(i**2)\n",
        "print(odds_squared)    \n",
        "print(\"\")\n",
        "# 方法二\n",
        "odds_squared = [i**2 for i in range(10) if i % 2 == 1]\n",
        "print(odds_squared)"
      ],
      "execution_count": 13,
      "outputs": [
        {
          "output_type": "stream",
          "text": [
            "[1, 9, 25, 49, 81]\n",
            "\n",
            "[1, 9, 25, 49, 81]\n"
          ],
          "name": "stdout"
        }
      ]
    },
    {
      "cell_type": "code",
      "metadata": {
        "id": "rXp5BlhAatlT",
        "colab_type": "code",
        "colab": {
          "base_uri": "https://localhost:8080/",
          "height": 85
        },
        "outputId": "bd9de4a9-0706-4890-97e7-3457a64f779e"
      },
      "source": [
        "random_integers = []\n",
        "for i in range(100):\n",
        "    rand_int = random.randint(1, 1000)\n",
        "    random_integers.append(rand_int)\n",
        "random_integers = [random.randint(1, 100) for i in range(20)]\n",
        "print(random_integers)\n",
        "is_odd_ints = []\n",
        "for i in random_integers:\n",
        "    if i % 2 == 1:\n",
        "        is_odd_ints.append(True)\n",
        "    else:\n",
        "        is_odd_ints.append(False)\n",
        "print(is_odd_ints)\n",
        "print(\"\")\n",
        "is_odd_ints = [True if i % 2 == 1 else False for i in random_integers]\n",
        "print(is_odd_ints)"
      ],
      "execution_count": 14,
      "outputs": [
        {
          "output_type": "stream",
          "text": [
            "[37, 100, 55, 42, 100, 93, 18, 75, 20, 68, 77, 92, 51, 6, 50, 78, 75, 44, 70, 72]\n",
            "[True, False, True, False, False, True, False, True, False, False, True, False, True, False, False, False, True, False, False, False]\n",
            "\n",
            "[True, False, True, False, False, True, False, True, False, False, True, False, True, False, False, False, True, False, False, False]\n"
          ],
          "name": "stdout"
        }
      ]
    },
    {
      "cell_type": "code",
      "metadata": {
        "id": "gcNBv2mZatnz",
        "colab_type": "code",
        "colab": {
          "base_uri": "https://localhost:8080/",
          "height": 102
        },
        "outputId": "3c008115-bb7b-4833-94e6-d9cec0ae55c2"
      },
      "source": [
        "weekdays = ['Monday', 'Tuesday', 'Wednesday', 'Thursday', 'Friday']\n",
        "for i, wd in enumerate(weekdays):\n",
        "    print(\"{}:星期{}\".format(wd, i+1))"
      ],
      "execution_count": 15,
      "outputs": [
        {
          "output_type": "stream",
          "text": [
            "Monday:星期1\n",
            "Tuesday:星期2\n",
            "Wednesday:星期3\n",
            "Thursday:星期4\n",
            "Friday:星期5\n"
          ],
          "name": "stdout"
        }
      ]
    },
    {
      "cell_type": "code",
      "metadata": {
        "id": "e6-9ENkoatqE",
        "colab_type": "code",
        "colab": {
          "base_uri": "https://localhost:8080/",
          "height": 85
        },
        "outputId": "381fbb62-01b5-4ebd-935e-cc9cc9748bec"
      },
      "source": [
        "avengers = [\"The Avengers\", \"Avengers: Age of Ultron\", \"Avengers: Infinity War\", \"Avengers: Endgame\"]\n",
        "for idx, movie in enumerate(avengers):\n",
        "    print(\"第{}部上映的復仇者聯盟是:{}\".format(idx+1, movie))"
      ],
      "execution_count": 21,
      "outputs": [
        {
          "output_type": "stream",
          "text": [
            "第1部上映的復仇者聯盟是:The Avengers\n",
            "第2部上映的復仇者聯盟是:Avengers: Age of Ultron\n",
            "第3部上映的復仇者聯盟是:Avengers: Infinity War\n",
            "第4部上映的復仇者聯盟是:Avengers: Endgame\n"
          ],
          "name": "stdout"
        }
      ]
    },
    {
      "cell_type": "code",
      "metadata": {
        "id": "YepKZAtzeaqm",
        "colab_type": "code",
        "colab": {
          "base_uri": "https://localhost:8080/",
          "height": 105
        },
        "outputId": "c046cae0-c6ef-4197-edf4-e6903512364f"
      },
      "source": [
        "import pandas as pd\n",
        "\n",
        "covid19_ts = pd.read_csv(\"https://raw.githubusercontent.com/CSSEGISandData/COVID-19/master/csse_covid_19_data/csse_covid_19_time_series/time_series_covid19_confirmed_global.csv\")\n",
        "covid19_ts_tw = covid19_ts[covid19_ts['Country/Region'] == 'Taiwan*']\n",
        "cumulative_confirmed_tw = list(covid19_ts_tw.loc[:,'1/22/20':'5/21/20'].values.ravel())\n",
        "dates = list(covid19_ts_tw.loc[:, '1/22/20':'5/21/20'])\n",
        "print(dates)\n",
        "print(len(dates))\n",
        "print(cumulative_confirmed_tw)\n",
        "print(len(cumulative_confirmed_tw))\n",
        "# 在這121天中那些\"日期\"是零新增確診"
      ],
      "execution_count": 26,
      "outputs": [
        {
          "output_type": "stream",
          "text": [
            "['1/22/20', '1/23/20', '1/24/20', '1/25/20', '1/26/20', '1/27/20', '1/28/20', '1/29/20', '1/30/20', '1/31/20', '2/1/20', '2/2/20', '2/3/20', '2/4/20', '2/5/20', '2/6/20', '2/7/20', '2/8/20', '2/9/20', '2/10/20', '2/11/20', '2/12/20', '2/13/20', '2/14/20', '2/15/20', '2/16/20', '2/17/20', '2/18/20', '2/19/20', '2/20/20', '2/21/20', '2/22/20', '2/23/20', '2/24/20', '2/25/20', '2/26/20', '2/27/20', '2/28/20', '2/29/20', '3/1/20', '3/2/20', '3/3/20', '3/4/20', '3/5/20', '3/6/20', '3/7/20', '3/8/20', '3/9/20', '3/10/20', '3/11/20', '3/12/20', '3/13/20', '3/14/20', '3/15/20', '3/16/20', '3/17/20', '3/18/20', '3/19/20', '3/20/20', '3/21/20', '3/22/20', '3/23/20', '3/24/20', '3/25/20', '3/26/20', '3/27/20', '3/28/20', '3/29/20', '3/30/20', '3/31/20', '4/1/20', '4/2/20', '4/3/20', '4/4/20', '4/5/20', '4/6/20', '4/7/20', '4/8/20', '4/9/20', '4/10/20', '4/11/20', '4/12/20', '4/13/20', '4/14/20', '4/15/20', '4/16/20', '4/17/20', '4/18/20', '4/19/20', '4/20/20', '4/21/20', '4/22/20', '4/23/20', '4/24/20', '4/25/20', '4/26/20', '4/27/20', '4/28/20', '4/29/20', '4/30/20', '5/1/20', '5/2/20', '5/3/20', '5/4/20', '5/5/20', '5/6/20', '5/7/20', '5/8/20', '5/9/20', '5/10/20', '5/11/20', '5/12/20', '5/13/20', '5/14/20', '5/15/20', '5/16/20', '5/17/20', '5/18/20', '5/19/20', '5/20/20', '5/21/20']\n",
            "121\n",
            "[1, 1, 3, 3, 4, 5, 8, 8, 9, 10, 10, 10, 10, 11, 11, 16, 16, 17, 18, 18, 18, 18, 18, 18, 18, 20, 22, 22, 23, 24, 26, 26, 28, 30, 31, 32, 32, 34, 39, 40, 41, 42, 42, 44, 45, 45, 45, 45, 47, 48, 49, 50, 53, 59, 67, 77, 100, 108, 135, 153, 169, 195, 215, 235, 252, 267, 283, 298, 306, 322, 329, 339, 348, 355, 363, 373, 376, 379, 380, 382, 385, 388, 393, 393, 395, 395, 395, 398, 420, 422, 425, 426, 427, 428, 429, 429, 429, 429, 429, 429, 429, 432, 436, 438, 438, 439, 440, 440, 440, 440, 440, 440, 440, 440, 440, 440, 440, 440, 440, 440, 440]\n",
            "121\n"
          ],
          "name": "stdout"
        }
      ]
    },
    {
      "cell_type": "code",
      "metadata": {
        "id": "TLMw1heOeatb",
        "colab_type": "code",
        "colab": {
          "base_uri": "https://localhost:8080/",
          "height": 71
        },
        "outputId": "a5209cdf-f892-4d4b-9a94-43e981df645e"
      },
      "source": [
        "cumulative_confirmed_tw_lag = []\n",
        "for i in range(1, len(cumulative_confirmed_tw)):\n",
        "    cumulative_confirmed_tw_lag.append(cumulative_confirmed_tw[i])\n",
        "print(cumulative_confirmed_tw_lag)\n",
        "print(len(cumulative_confirmed_tw_lag))"
      ],
      "execution_count": 23,
      "outputs": [
        {
          "output_type": "stream",
          "text": [
            "[1, 3, 3, 4, 5, 8, 8, 9, 10, 10, 10, 10, 11, 11, 16, 16, 17, 18, 18, 18, 18, 18, 18, 18, 20, 22, 22, 23, 24, 26, 26, 28, 30, 31, 32, 32, 34, 39, 40, 41, 42, 42, 44, 45, 45, 45, 45, 47, 48, 49, 50, 53, 59, 67, 77, 100, 108, 135, 153, 169, 195, 215, 235, 252, 267, 283, 298, 306, 322, 329, 339, 348, 355, 363, 373, 376, 379, 380, 382, 385, 388, 393, 393, 395, 395, 395, 398, 420, 422, 425, 426, 427, 428, 429, 429, 429, 429, 429, 429, 429, 432, 436, 438, 438, 439, 440, 440, 440, 440, 440, 440, 440, 440, 440, 440, 440, 440, 440, 440, 440]\n",
            "120\n"
          ],
          "name": "stdout"
        }
      ]
    },
    {
      "cell_type": "code",
      "metadata": {
        "id": "vWX7EOC8eawM",
        "colab_type": "code",
        "colab": {}
      },
      "source": [
        ""
      ],
      "execution_count": 0,
      "outputs": []
    }
  ]
}