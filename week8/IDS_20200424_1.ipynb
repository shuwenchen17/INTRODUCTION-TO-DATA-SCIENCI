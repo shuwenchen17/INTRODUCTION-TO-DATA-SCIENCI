{
  "nbformat": 4,
  "nbformat_minor": 0,
  "metadata": {
    "colab": {
      "name": "IDS_20200424_1.ipynb",
      "provenance": []
    },
    "kernelspec": {
      "name": "python3",
      "display_name": "Python 3"
    }
  },
  "cells": [
    {
      "cell_type": "code",
      "metadata": {
        "id": "XwZ6f07J6mUQ",
        "colab_type": "code",
        "colab": {
          "base_uri": "https://localhost:8080/",
          "height": 51
        },
        "outputId": "ff6044f9-4e11-4c49-d9ca-b55c4f7e2ebf"
      },
      "source": [
        "user_int = int(input(\"請輸入一個正整數\"))\n",
        "if user_int % 15 == 0:\n",
        "    print(\"Fizz Buzz\")\n",
        "elif user_int % 5 == 0:\n",
        "    print(\"Buzz\")\n",
        "elif user_int % 3 == 0:\n",
        "    print(\"Fizz\")\n",
        "else:\n",
        "    print(user_int)"
      ],
      "execution_count": 11,
      "outputs": [
        {
          "output_type": "stream",
          "text": [
            "請輸入一個正整數17\n",
            "17\n"
          ],
          "name": "stdout"
        }
      ]
    },
    {
      "cell_type": "code",
      "metadata": {
        "id": "mvZioCTW_2Z0",
        "colab_type": "code",
        "colab": {
          "base_uri": "https://localhost:8080/",
          "height": 187
        },
        "outputId": "0c4e6201-3564-42b1-9151-254e38a782f4"
      },
      "source": [
        "i = 2\n",
        "while i <= 20:\n",
        "    print(i)\n",
        "    i += 2"
      ],
      "execution_count": 9,
      "outputs": [
        {
          "output_type": "stream",
          "text": [
            "2\n",
            "4\n",
            "6\n",
            "8\n",
            "10\n",
            "12\n",
            "14\n",
            "16\n",
            "18\n",
            "20\n"
          ],
          "name": "stdout"
        }
      ]
    },
    {
      "cell_type": "code",
      "metadata": {
        "id": "0lnoNUWqPnkV",
        "colab_type": "code",
        "colab": {
          "base_uri": "https://localhost:8080/",
          "height": 34
        },
        "outputId": "71c3ee0b-4d3c-47cb-c23b-3511cd21c646"
      },
      "source": [
        "i = 1\n",
        "counter = 0\n",
        "while i <= 10:\n",
        "    counter += 1\n",
        "    i += 1\n",
        "print(counter)"
      ],
      "execution_count": 10,
      "outputs": [
        {
          "output_type": "stream",
          "text": [
            "10\n"
          ],
          "name": "stdout"
        }
      ]
    },
    {
      "cell_type": "code",
      "metadata": {
        "id": "iI8F8I1AQHm5",
        "colab_type": "code",
        "colab": {
          "base_uri": "https://localhost:8080/",
          "height": 34
        },
        "outputId": "c506c7f7-06ad-4b4a-97a2-bac92f4c0f23"
      },
      "source": [
        "i = 1\n",
        "counter = 0\n",
        "while i <= 10:\n",
        "    if i % 2 == 0:\n",
        "       counter += 1\n",
        "    i += 1\n",
        "print(counter)"
      ],
      "execution_count": 12,
      "outputs": [
        {
          "output_type": "stream",
          "text": [
            "5\n"
          ],
          "name": "stdout"
        }
      ]
    },
    {
      "cell_type": "code",
      "metadata": {
        "id": "WzCIbqoCScck",
        "colab_type": "code",
        "colab": {
          "base_uri": "https://localhost:8080/",
          "height": 34
        },
        "outputId": "49736325-edbc-466d-96aa-2f4e14d98cae"
      },
      "source": [
        "i = 1\n",
        "summation = 0\n",
        "while i <= 100:\n",
        " summation += i\n",
        " i += 1\n",
        "print(summation)"
      ],
      "execution_count": 21,
      "outputs": [
        {
          "output_type": "stream",
          "text": [
            "5050\n"
          ],
          "name": "stdout"
        }
      ]
    },
    {
      "cell_type": "code",
      "metadata": {
        "id": "zCYNdfXATgI7",
        "colab_type": "code",
        "colab": {
          "base_uri": "https://localhost:8080/",
          "height": 153
        },
        "outputId": "abed41b2-8c94-46d5-a4ac-998bf7190a98"
      },
      "source": [
        "x = int(input(\"請輸入起始的正整數:\"))\n",
        "y = int(input(\"請輸入終止的正整數:\"))\n",
        "i = x\n",
        "while i <= y:\n",
        "    if i % 2 == 1:\n",
        "       print(i)\n",
        "    i += 1"
      ],
      "execution_count": 31,
      "outputs": [
        {
          "output_type": "stream",
          "text": [
            "請輸入起始的正整數:55\n",
            "請輸入終止的正整數:66\n",
            "55\n",
            "57\n",
            "59\n",
            "61\n",
            "63\n",
            "65\n"
          ],
          "name": "stdout"
        }
      ]
    }
  ]
}