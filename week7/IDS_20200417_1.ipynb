{
  "nbformat": 4,
  "nbformat_minor": 0,
  "metadata": {
    "colab": {
      "name": "經濟二乙_A107260010_陳舒汶.week7",
      "provenance": []
    },
    "kernelspec": {
      "name": "python3",
      "display_name": "Python 3"
    }
  },
  "cells": [
    {
      "cell_type": "code",
      "metadata": {
        "id": "ujf-hTea3SnD",
        "colab_type": "code",
        "outputId": "8103a53b-8def-4e3c-fc95-7a42c56161f1",
        "colab": {
          "base_uri": "https://localhost:8080/",
          "height": 68
        }
      },
      "source": [
        "monthly_income = input(\"請輸入月薪：\")\n",
        "saving_account = input(\"請輸入存款：\")\n",
        "ans = \"發放信用卡\"\n",
        "monthly_income = float(monthly_income)\n",
        "saving_account  = float(saving_account)\n",
        "if monthly_income > 40000 or  saving_account > 500000 :\n",
        " print(ans)  "
      ],
      "execution_count": 0,
      "outputs": [
        {
          "output_type": "stream",
          "text": [
            "請輸入月薪：40001\n",
            "請輸入存款：599999\n",
            "發放信用卡\n"
          ],
          "name": "stdout"
        }
      ]
    },
    {
      "cell_type": "code",
      "metadata": {
        "id": "_hD27RP93fiY",
        "colab_type": "code",
        "outputId": "2fa08b18-1741-4d59-ba49-9e7b94b85294",
        "colab": {
          "base_uri": "https://localhost:8080/",
          "height": 51
        }
      },
      "source": [
        "user_int = input(\"請輸入一個正整數：\")\n",
        "user_int = int(user_int)\n",
        "if user_int % 2 == 0:\n",
        "    ans = \"偶數\"\n",
        "else:\n",
        "    ans = \"奇數\"\n",
        "print(ans)"
      ],
      "execution_count": 1,
      "outputs": [
        {
          "output_type": "stream",
          "text": [
            "請輸入一個正整數：17\n",
            "奇數\n"
          ],
          "name": "stdout"
        }
      ]
    },
    {
      "cell_type": "code",
      "metadata": {
        "id": "bilLlZiJusne",
        "colab_type": "code",
        "outputId": "3ad6b9c7-7697-43b2-abc4-d28374917bcf",
        "colab": {
          "base_uri": "https://localhost:8080/",
          "height": 51
        }
      },
      "source": [
        "id_last_digit = input(\"請輸入身分證字號的尾數：\")\n",
        "id_last_digit = int(id_last_digit)\n",
        "if id_last_digit % 2 == 0:\n",
        "    ans = \"星期二四六日領\"\n",
        "else:\n",
        "    ans = \"星期一三五日領\"\n",
        "print(ans)"
      ],
      "execution_count": 2,
      "outputs": [
        {
          "output_type": "stream",
          "text": [
            "請輸入身分證字號的尾數：7\n",
            "星期一三五日領\n"
          ],
          "name": "stdout"
        }
      ]
    },
    {
      "cell_type": "code",
      "metadata": {
        "id": "vcH2Gp37I5Nd",
        "colab_type": "code",
        "colab": {
          "base_uri": "https://localhost:8080/",
          "height": 51
        },
        "outputId": "2300d26b-7198-403f-d9f4-ea6206ca144c"
      },
      "source": [
        "id_number = input(\"請輸入身分證字號：\")\n",
        "id_last_digit = id_number[-1] #-1表示後面數來第一個數字，1表示英文字後的數字\n",
        "id_last_digit = int(id_last_digit)\n",
        "if id_last_digit % 2 == 0:\n",
        "    ans = \"星期二四六日領\"\n",
        "else:\n",
        "    ans = \"星期一三五日領\"\n",
        "print(ans)"
      ],
      "execution_count": 3,
      "outputs": [
        {
          "output_type": "stream",
          "text": [
            "請輸入身分證字號：A107260010\n",
            "星期二四六日領\n"
          ],
          "name": "stdout"
        }
      ]
    },
    {
      "cell_type": "code",
      "metadata": {
        "id": "6eIQ9MA54v8D",
        "colab_type": "code",
        "colab": {
          "base_uri": "https://localhost:8080/",
          "height": 68
        },
        "outputId": "d8b7bc0a-23fb-49d3-e016-88f288d832fc"
      },
      "source": [
        "input_height = float(input(\"請輸入身高（公分）：\"))\n",
        "input_weight = float(input(\"請輸入體重（公斤）：\"))\n",
        "bmi = input_weight / (input_height*0.01)**2\n",
        "if bmi > 30:\n",
        "    label = \"Obese\"\n",
        "elif bmi > 25:\n",
        "    label = \"Overweight\"\n",
        "elif bmi > 18.5:\n",
        "    label = \"Normal weight\"\n",
        "elif bmi <= 18.5:\n",
        "    label = \"Underweight\"\n",
        "print(label)"
      ],
      "execution_count": 4,
      "outputs": [
        {
          "output_type": "stream",
          "text": [
            "請輸入身高（公分）：165\n",
            "請輸入體重（公斤）：48\n",
            "Underweight\n"
          ],
          "name": "stdout"
        }
      ]
    }
  ]
}