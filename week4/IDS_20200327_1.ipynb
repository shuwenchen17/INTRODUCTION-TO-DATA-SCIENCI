{
  "nbformat": 4,
  "nbformat_minor": 0,
  "metadata": {
    "colab": {
      "name": "經濟二乙_A107260010_陳舒汶.week4",
      "provenance": []
    },
    "kernelspec": {
      "name": "python3",
      "display_name": "Python 3"
    }
  },
  "cells": [
    {
      "cell_type": "code",
      "metadata": {
        "id": "q4jIAxXJpZyy",
        "colab_type": "code",
        "colab": {
          "base_uri": "https://localhost:8080/",
          "height": 34
        },
        "outputId": "cfb20eb4-8afd-476d-98e2-3125822e086d"
      },
      "source": [
        "current_Celsius = 28\n",
        "current_Fahrenheit=(current_Celsius*9/5)+32\n",
        "print(current_Fahrenheit )"
      ],
      "execution_count": 16,
      "outputs": [
        {
          "output_type": "stream",
          "text": [
            "82.4\n"
          ],
          "name": "stdout"
        }
      ]
    },
    {
      "cell_type": "code",
      "metadata": {
        "id": "1RbcQogSp6mi",
        "colab_type": "code",
        "colab": {
          "base_uri": "https://localhost:8080/",
          "height": 34
        },
        "outputId": "88078d3b-65da-4500-f519-88874d8b8e00"
      },
      "source": [
        "current_Fahrenheit= 82.4\n",
        "current_Celsius=(current_Fahrenheit-32)*5/9\n",
        "print(current_Celsius)"
      ],
      "execution_count": 17,
      "outputs": [
        {
          "output_type": "stream",
          "text": [
            "28.000000000000004\n"
          ],
          "name": "stdout"
        }
      ]
    },
    {
      "cell_type": "code",
      "metadata": {
        "id": "FoFDk0GCrT6D",
        "colab_type": "code",
        "colab": {
          "base_uri": "https://localhost:8080/",
          "height": 34
        },
        "outputId": "c2d88af7-a05b-478d-a6f5-0f842af60cc5"
      },
      "source": [
        "#shaq_height =216(公分)\n",
        "#shaq_weight = 147(公斤)\n",
        "shaq_height = 216\n",
        "shaq_weight = 147\n",
        "#BMI=體重(公斤)/身高**2(公尺)\n",
        "#shaq_bmi = shaq_weight/((shaq_height/100)**2)\n",
        "shaq_bmi = shaq_weight/((shaq_height/100)**2)\n",
        "print(shaq_bmi)"
      ],
      "execution_count": 12,
      "outputs": [
        {
          "output_type": "stream",
          "text": [
            "31.507201646090532\n"
          ],
          "name": "stdout"
        }
      ]
    },
    {
      "cell_type": "code",
      "metadata": {
        "id": "ZvZ6VrzrtaNE",
        "colab_type": "code",
        "colab": {
          "base_uri": "https://localhost:8080/",
          "height": 34
        },
        "outputId": "1451a951-8fe0-4de2-a766-6c1f75d57d4a"
      },
      "source": [
        "ross_said=\"\"\"Let's put aside the fact that you \"accidentally\" pick up my grandmother's ring.\"\"\"\n",
        "print(ross_said)"
      ],
      "execution_count": 18,
      "outputs": [
        {
          "output_type": "stream",
          "text": [
            "Let's put aside the fact that you \"accidentally\" pick up my grandmother's ring.\n"
          ],
          "name": "stdout"
        }
      ]
    },
    {
      "cell_type": "code",
      "metadata": {
        "id": "Be5Vgulj4UCD",
        "colab_type": "code",
        "colab": {
          "base_uri": "https://localhost:8080/",
          "height": 34
        },
        "outputId": "0e3ded6a-fa58-437e-a101-df9d9c316b3d"
      },
      "source": [
        "ross_said='Let\\'s put aside the fact that you \\\"accidentally\" pick up my grandmother\\'s ring.'\n",
        "print(ross_said)"
      ],
      "execution_count": 20,
      "outputs": [
        {
          "output_type": "stream",
          "text": [
            "Let's put aside the fact that you \"accidentally\" pick up my grandmother's ring.\n"
          ],
          "name": "stdout"
        }
      ]
    },
    {
      "cell_type": "code",
      "metadata": {
        "id": "OTk9kLWF4xAC",
        "colab_type": "code",
        "colab": {
          "base_uri": "https://localhost:8080/",
          "height": 68
        },
        "outputId": "08a371da-5483-404d-cfa3-ac84825584a1"
      },
      "source": [
        "city = input(\"請輸入您所在的城市：\")\n",
        "weather = input(\"請輸入現在的天氣：\")\n",
        "print(\"我在{}，天氣{}\".format(city, weather))"
      ],
      "execution_count": 24,
      "outputs": [
        {
          "output_type": "stream",
          "text": [
            "請輸入您所在的城市：台北市\n",
            "請輸入現在的天氣：晴\n",
            "我在台北市，天氣晴\n"
          ],
          "name": "stdout"
        }
      ]
    },
    {
      "cell_type": "code",
      "metadata": {
        "id": "rttxPJgc_MpS",
        "colab_type": "code",
        "colab": {
          "base_uri": "https://localhost:8080/",
          "height": 102
        },
        "outputId": "528ae508-30fd-4162-f048-3853fdd823c0"
      },
      "source": [
        "player_name = input(\"球員名字\")\n",
        "player_height = input(\"球員身高\")\n",
        "player_weight = input(\"球員體重\")\n",
        "# 透過 input() 函數獲得的資料類別是文字，轉換函數 1. int()：轉換為整數類別 2. float()：轉換為浮點數類別 3. str()：轉換為文字類別 4. bool()：轉換為布林類別\n",
        "player_height = float(player_height)\n",
        "player_weight = float(player_weight)\n",
        "player_bmi = player_weight/((player_height/100)**2)\n",
        "print(\"{}的身體質量指數為：{:.2f}\".format(player_name, player_bmi))\n",
        "print(\"{}是否過重：{}\".format(player_name, player_bmi > 30))"
      ],
      "execution_count": 28,
      "outputs": [
        {
          "output_type": "stream",
          "text": [
            "球員名字俠客歐尼爾\n",
            "球員身高216\n",
            "球員體重147\n",
            "俠客歐尼爾的身體質量指數為：31.51\n",
            "俠客歐尼爾是否過重：True\n"
          ],
          "name": "stdout"
        }
      ]
    }
  ]
}