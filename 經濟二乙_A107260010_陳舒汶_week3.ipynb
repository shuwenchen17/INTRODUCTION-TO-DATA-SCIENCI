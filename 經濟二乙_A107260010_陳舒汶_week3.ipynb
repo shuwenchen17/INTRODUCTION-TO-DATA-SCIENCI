{
  "nbformat": 4,
  "nbformat_minor": 0,
  "metadata": {
    "colab": {
      "name": "經濟二乙_A107260010_陳舒汶.week3",
      "provenance": [],
      "collapsed_sections": []
    },
    "kernelspec": {
      "name": "python3",
      "display_name": "Python 3"
    }
  },
  "cells": [
    {
      "cell_type": "code",
      "metadata": {
        "id": "JieNXGt_vagj",
        "colab_type": "code",
        "outputId": "47c95d7e-4ba1-4802-d3d2-57f79cff6d84",
        "colab": {
          "base_uri": "https://localhost:8080/",
          "height": 119
        }
      },
      "source": [
        "movie_title =\"Avengers: Endgame\"\n",
        "movie_time =181\n",
        "movie_rating =8.4\n",
        "\n",
        "print(movie_time)\n",
        "print(movie_rating)\n",
        "print(movie_title)\n",
        "\n",
        "print(type(movie_time))\n",
        "print(type(movie_rating))\n",
        "print(type(movie_title))\n"
      ],
      "execution_count": 0,
      "outputs": [
        {
          "output_type": "stream",
          "text": [
            "181\n",
            "8.4\n",
            "Avengers: Endgame\n",
            "<class 'int'>\n",
            "<class 'float'>\n",
            "<class 'str'>\n"
          ],
          "name": "stdout"
        }
      ]
    }
  ]
}