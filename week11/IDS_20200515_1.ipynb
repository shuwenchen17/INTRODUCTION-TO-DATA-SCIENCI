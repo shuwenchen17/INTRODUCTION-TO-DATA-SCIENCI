{
  "nbformat": 4,
  "nbformat_minor": 0,
  "metadata": {
    "colab": {
      "name": "IDS_20200515_1",
      "provenance": []
    },
    "kernelspec": {
      "name": "python3",
      "display_name": "Python 3"
    }
  },
  "cells": [
    {
      "cell_type": "code",
      "metadata": {
        "id": "GseoVMab2mnL",
        "colab_type": "code",
        "colab": {
          "base_uri": "https://localhost:8080/",
          "height": 70
        },
        "outputId": "a2e4e412-01e3-4153-acd0-8b5b60b88144"
      },
      "source": [
        "primes_list = [2, 3, 5, 7, 11]\n",
        "primes_list[-1] = 13 # update\n",
        "print(primes_list)\n",
        "\n",
        "primes_list.insert(-1, 11) # increase length\n",
        "print(primes_list)\n",
        "\n",
        "primes_list.pop()\n",
        "print(primes_list)"
      ],
      "execution_count": 1,
      "outputs": [
        {
          "output_type": "stream",
          "text": [
            "[2, 3, 5, 7, 13]\n",
            "[2, 3, 5, 7, 11, 13]\n",
            "[2, 3, 5, 7, 11]\n"
          ],
          "name": "stdout"
        }
      ]
    },
    {
      "cell_type": "code",
      "metadata": {
        "id": "j06j3ova2s13",
        "colab_type": "code",
        "colab": {
          "base_uri": "https://localhost:8080/",
          "height": 34
        },
        "outputId": "afa2b257-357e-4848-cc93-3f9ed844ba16"
      },
      "source": [
        "primes = (2, 3, 5, 7, 11)\n",
        "print(type(primes))\n"
      ],
      "execution_count": 2,
      "outputs": [
        {
          "output_type": "stream",
          "text": [
            "<class 'tuple'>\n"
          ],
          "name": "stdout"
        }
      ]
    },
    {
      "cell_type": "code",
      "metadata": {
        "id": "2AdvATtY2wzi",
        "colab_type": "code",
        "colab": {
          "base_uri": "https://localhost:8080/",
          "height": 105
        },
        "outputId": "5336e38a-be07-47d5-e0c3-204c850f08dc"
      },
      "source": [
        "x = 0.25\n",
        "print(type(x))\n",
        "print(x.as_integer_ratio())\n",
        "print(type(x.as_integer_ratio()))\n",
        "\n",
        "numerator, denominator = x.as_integer_ratio()\n",
        "print(numerator)\n",
        "print(denominator)"
      ],
      "execution_count": 3,
      "outputs": [
        {
          "output_type": "stream",
          "text": [
            "<class 'float'>\n",
            "(1, 4)\n",
            "<class 'tuple'>\n",
            "1\n",
            "4\n"
          ],
          "name": "stdout"
        }
      ]
    },
    {
      "cell_type": "code",
      "metadata": {
        "id": "Wv--qw1W2w2X",
        "colab_type": "code",
        "colab": {
          "base_uri": "https://localhost:8080/",
          "height": 87
        },
        "outputId": "2eb6ec14-fb9c-4b36-b7df-be0cdf291568"
      },
      "source": [
        "def where_are_you_from(city, country):\n",
        "    return city, country\n",
        "\n",
        "print(where_are_you_from(\"Taipei\", \"Taiwan\"))\n",
        "print(type(where_are_you_from(\"Taipei\", \"Taiwan\")))\n",
        "\n",
        "my_city, my_country = where_are_you_from(\"Taipei\", \"Taiwan\")\n",
        "print(my_city)\n",
        "print(my_country)"
      ],
      "execution_count": 4,
      "outputs": [
        {
          "output_type": "stream",
          "text": [
            "('Taipei', 'Taiwan')\n",
            "<class 'tuple'>\n",
            "Taipei\n",
            "Taiwan\n"
          ],
          "name": "stdout"
        }
      ]
    },
    {
      "cell_type": "code",
      "metadata": {
        "id": "9kwE38412w4y",
        "colab_type": "code",
        "colab": {
          "base_uri": "https://localhost:8080/",
          "height": 142
        },
        "outputId": "9e4b3ce2-d5a0-467f-89c0-3682864a7d30"
      },
      "source": [
        "the_avengers = {\n",
        "    \"Iron Man\": \"Tony Stark\",\n",
        "    \"Captain America\": \"Steve Rogers\",\n",
        "    \"Hulk\": \"Bruce Banner\",\n",
        "    \"Thor\": \"Thor\",\n",
        "    \"Black Widow\": \"Natasha Romanoff\",\n",
        "    \"Hawkeye\": \"Clint Barton\"\n",
        "}\n",
        "print(the_avengers)\n",
        "print(type(the_avengers))\n",
        "print(\"------------------------------\")\n",
        "\n",
        "print(the_avengers.keys())\n",
        "print(the_avengers.values())\n",
        "print(the_avengers.items()) # 6 組 tuples"
      ],
      "execution_count": 5,
      "outputs": [
        {
          "output_type": "stream",
          "text": [
            "{'Iron Man': 'Tony Stark', 'Captain America': 'Steve Rogers', 'Hulk': 'Bruce Banner', 'Thor': 'Thor', 'Black Widow': 'Natasha Romanoff', 'Hawkeye': 'Clint Barton'}\n",
            "<class 'dict'>\n",
            "------------------------------\n",
            "dict_keys(['Iron Man', 'Captain America', 'Hulk', 'Thor', 'Black Widow', 'Hawkeye'])\n",
            "dict_values(['Tony Stark', 'Steve Rogers', 'Bruce Banner', 'Thor', 'Natasha Romanoff', 'Clint Barton'])\n",
            "dict_items([('Iron Man', 'Tony Stark'), ('Captain America', 'Steve Rogers'), ('Hulk', 'Bruce Banner'), ('Thor', 'Thor'), ('Black Widow', 'Natasha Romanoff'), ('Hawkeye', 'Clint Barton')])\n"
          ],
          "name": "stdout"
        }
      ]
    },
    {
      "cell_type": "code",
      "metadata": {
        "id": "xGG708lD2w66",
        "colab_type": "code",
        "colab": {
          "base_uri": "https://localhost:8080/",
          "height": 52
        },
        "outputId": "cb54ebed-d443-4315-d626-60077f68e22d"
      },
      "source": [
        "living_area = input(\"請輸入您的居住城市:\")\n",
        "\n",
        "# 方法一\n",
        "living_cost = None\n",
        "if living_area == '臺北市':\n",
        "    living_cost = 17005\n",
        "elif living_area == '新北市':\n",
        "    living_cost = 15500\n",
        "elif living_area == '桃園市':\n",
        "    living_cost = 15281\n",
        "elif living_area == '臺中市':\n",
        "    living_cost = 14596\n",
        "elif living_area == '臺南市':\n",
        "    living_cost = 12388\n",
        "elif living_area == '高雄市':\n",
        "    living_cost = 13099\n",
        "elif living_area == '非六都之縣市':\n",
        "    living_cost = 12388\n",
        "elif living_area == '金門縣連江縣':\n",
        "    living_cost = 11648\n",
        "\n",
        "if living_cost is None:\n",
        "    print(\"請重新輸入居住縣市\")\n",
        "else:\n",
        "    print(\"{}的每人每月最低生活費為{:,}\".format(living_area, living_cost))"
      ],
      "execution_count": 6,
      "outputs": [
        {
          "output_type": "stream",
          "text": [
            "請輸入您的居住城市:高雄市\n",
            "高雄市的每人每月最低生活費為13,099\n"
          ],
          "name": "stdout"
        }
      ]
    },
    {
      "cell_type": "code",
      "metadata": {
        "id": "7lYQIXK62-Sc",
        "colab_type": "code",
        "colab": {
          "base_uri": "https://localhost:8080/",
          "height": 52
        },
        "outputId": "6ecf8348-9f7f-4218-a4ed-c24981d0b494"
      },
      "source": [
        "living_cost_dict = {\n",
        "    '臺北市' : 17005,\n",
        "    '新北市' : 15500,\n",
        "    '桃園市' : 15281,\n",
        "    '臺中市' : 14596,\n",
        "    '臺南市' : 12388,\n",
        "    '高雄市' : 13099,\n",
        "    '非六都之縣市' : 12388,\n",
        "    '金門縣連江縣' : 11648,\n",
        "}\n",
        "# 方法二\n",
        "living_area = input(\"請輸入您的居住城市:\")\n",
        "try:\n",
        "  living_cost = living_cost_dict[living_area]\n",
        "  print(\"{}的每人每月最低生活費為{:,}\".format(living_area, living_cost))\n",
        "except KeyError:\n",
        "    print(\"請重新輸入居住縣市\")"
      ],
      "execution_count": 7,
      "outputs": [
        {
          "output_type": "stream",
          "text": [
            "請輸入您的居住城市:澎湖縣\n",
            "請重新輸入居住縣市\n"
          ],
          "name": "stdout"
        }
      ]
    },
    {
      "cell_type": "code",
      "metadata": {
        "id": "fpZ9OHvs2-VG",
        "colab_type": "code",
        "colab": {
          "base_uri": "https://localhost:8080/",
          "height": 34
        },
        "outputId": "046481b1-d555-4987-e523-11a482ff7deb"
      },
      "source": [
        "living_cost_dict = {\n",
        "    '臺北市' : 17005,\n",
        "    '新北市' : 15500,\n",
        "    '桃園市' : 15281,\n",
        "    '臺中市' : 14596,\n",
        "    '臺南市' : 12388,\n",
        "    '高雄市' : 13099,\n",
        "    '非六都之縣市' : 12388,\n",
        "    '金門縣連江縣' : 11648,\n",
        "}\n",
        "# 方法三\n",
        "#@title Default title text\n",
        "living_area = '\\u975E\\u516D\\u90FD\\u4E4B\\u7E23\\u5E02' #@param ['臺北市', '新北市', '桃園市', '臺中市', '臺南市', '高雄市', '非六都之縣市', '金門縣連江縣']\n",
        "living_cost = living_cost_dict[living_area]\n",
        "print(\"{}的每人每月最低生活費為{:,}\".format(living_area, living_cost))"
      ],
      "execution_count": 8,
      "outputs": [
        {
          "output_type": "stream",
          "text": [
            "非六都之縣市的每人每月最低生活費為12,388\n"
          ],
          "name": "stdout"
        }
      ]
    },
    {
      "cell_type": "code",
      "metadata": {
        "id": "GZ-ueNC22-XG",
        "colab_type": "code",
        "colab": {
          "base_uri": "https://localhost:8080/",
          "height": 105
        },
        "outputId": "e0b83674-2183-41cf-e4e9-b63fc917fb72"
      },
      "source": [
        "primes = {2, 3, 5, 7, 11, 13}\n",
        "print(primes)\n",
        "print(type(primes))\n",
        "\n",
        "primes_list = [2, 3, 3, 3, 5, 5]\n",
        "print(primes_list)\n",
        "\n",
        "print(set(primes_list))\n",
        "\n",
        "primes = {2, 3, 5, 7, 11, 13, 13, 13, 11, 11, 11, 11, 2, 2, 2}\n",
        "print(primes)"
      ],
      "execution_count": 9,
      "outputs": [
        {
          "output_type": "stream",
          "text": [
            "{2, 3, 5, 7, 11, 13}\n",
            "<class 'set'>\n",
            "[2, 3, 3, 3, 5, 5]\n",
            "{2, 3, 5}\n",
            "{2, 3, 5, 7, 11, 13}\n"
          ],
          "name": "stdout"
        }
      ]
    },
    {
      "cell_type": "code",
      "metadata": {
        "id": "jS8ZZZEc3OVI",
        "colab_type": "code",
        "colab": {
          "base_uri": "https://localhost:8080/",
          "height": 210
        },
        "outputId": "6175d97f-1342-4229-c37b-8f98c07231af"
      },
      "source": [
        "primes = {2, 3, 5, 7, 11, 13}\n",
        "odds = {1, 3, 5, 7, 9, 11, 13}\n",
        "#交集(.intersection)\n",
        "print(primes & odds)\n",
        "print(primes.intersection(odds))\n",
        "#聯集(.union)\n",
        "print(primes | odds)\n",
        "print(primes.union(odds))\n",
        "#差異(.difference)\n",
        "print(primes - odds)\n",
        "print(odds - primes)\n",
        "print(primes.difference(odds))\n",
        "print(odds.difference(primes))\n",
        "#對稱差異(.symmetric_difference)\n",
        "print((primes - odds) | (odds - primes))\n",
        "print(primes ^ odds)\n",
        "print(primes.symmetric_difference(odds))"
      ],
      "execution_count": 10,
      "outputs": [
        {
          "output_type": "stream",
          "text": [
            "{3, 5, 7, 11, 13}\n",
            "{3, 5, 7, 11, 13}\n",
            "{1, 2, 3, 5, 7, 9, 11, 13}\n",
            "{1, 2, 3, 5, 7, 9, 11, 13}\n",
            "{2}\n",
            "{1, 9}\n",
            "{2}\n",
            "{1, 9}\n",
            "{1, 2, 9}\n",
            "{1, 2, 9}\n",
            "{1, 2, 9}\n"
          ],
          "name": "stdout"
        }
      ]
    }
  ]
}